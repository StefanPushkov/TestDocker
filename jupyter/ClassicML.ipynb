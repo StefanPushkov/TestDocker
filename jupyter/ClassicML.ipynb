{
 "cells": [
  {
   "cell_type": "code",
   "execution_count": 260,
   "metadata": {},
   "outputs": [],
   "source": [
    "import pandas as pd\n",
    "import numpy as np\n",
    "from sklearn.ensemble import RandomForestClassifier \n",
    "from sklearn.model_selection import train_test_split\n",
    "from sklearn import metrics\n",
    "from matplotlib import pyplot as plt\n",
    "import xgboost as xgb\n",
    "import seaborn as sns\n",
    "from sklearn.preprocessing import StandardScaler\n",
    "import matplotlib.pyplot as plt\n",
    "\n",
    "from sklearn.neighbors import KNeighborsClassifier\n",
    "from sklearn.model_selection import cross_validate\n",
    "from sklearn.svm import LinearSVC\n",
    "from sklearn.svm import SVC\n",
    "from xgboost import XGBClassifier\n",
    "\n",
    "from sklearn.discriminant_analysis import LinearDiscriminantAnalysis as LDA\n",
    "from sklearn.decomposition import PCA\n",
    "from sklearn.manifold import TSNE\n",
    "from sklearn.metrics import roc_auc_score, accuracy_score, precision_score, recall_score, f1_score\n",
    "from sklearn.ensemble import VotingClassifier\n",
    "from sklearn.feature_selection import SelectFromModel\n",
    "from sklearn.svm import LinearSVC"
   ]
  },
  {
   "cell_type": "code",
   "execution_count": 221,
   "metadata": {},
   "outputs": [],
   "source": [
    "# Read data \n",
    "df = pd.read_csv('/home/stefan/stef/Disk/Projects/SkillTask2/data/train.csv/train.csv')"
   ]
  },
  {
   "cell_type": "code",
   "execution_count": 222,
   "metadata": {},
   "outputs": [],
   "source": [
    "# Create copy of a dataframe\n",
    "data = df.copy()"
   ]
  },
  {
   "cell_type": "code",
   "execution_count": 223,
   "metadata": {},
   "outputs": [
    {
     "data": {
      "text/html": [
       "<div>\n",
       "<style scoped>\n",
       "    .dataframe tbody tr th:only-of-type {\n",
       "        vertical-align: middle;\n",
       "    }\n",
       "\n",
       "    .dataframe tbody tr th {\n",
       "        vertical-align: top;\n",
       "    }\n",
       "\n",
       "    .dataframe thead th {\n",
       "        text-align: right;\n",
       "    }\n",
       "</style>\n",
       "<table border=\"1\" class=\"dataframe\">\n",
       "  <thead>\n",
       "    <tr style=\"text-align: right;\">\n",
       "      <th></th>\n",
       "      <th>sample_id</th>\n",
       "      <th>f0</th>\n",
       "      <th>f1</th>\n",
       "      <th>f2</th>\n",
       "      <th>f3</th>\n",
       "      <th>f4</th>\n",
       "      <th>f5</th>\n",
       "      <th>f6</th>\n",
       "      <th>f7</th>\n",
       "      <th>f8</th>\n",
       "      <th>...</th>\n",
       "      <th>f1603</th>\n",
       "      <th>f1604</th>\n",
       "      <th>f1605</th>\n",
       "      <th>f1606</th>\n",
       "      <th>f1607</th>\n",
       "      <th>f1608</th>\n",
       "      <th>f1609</th>\n",
       "      <th>f1610</th>\n",
       "      <th>f1611</th>\n",
       "      <th>y</th>\n",
       "    </tr>\n",
       "  </thead>\n",
       "  <tbody>\n",
       "    <tr>\n",
       "      <th>0</th>\n",
       "      <td>sample_0</td>\n",
       "      <td>25.609375</td>\n",
       "      <td>6.703125</td>\n",
       "      <td>3.652344</td>\n",
       "      <td>10.039062</td>\n",
       "      <td>169.375</td>\n",
       "      <td>102.8125</td>\n",
       "      <td>1.422852</td>\n",
       "      <td>6.722656</td>\n",
       "      <td>8.015625</td>\n",
       "      <td>...</td>\n",
       "      <td>8.070312</td>\n",
       "      <td>4.363281</td>\n",
       "      <td>5.019531</td>\n",
       "      <td>5.710938</td>\n",
       "      <td>6.343750</td>\n",
       "      <td>6.843750</td>\n",
       "      <td>7.289062</td>\n",
       "      <td>7.617188</td>\n",
       "      <td>7.980469</td>\n",
       "      <td>1.0</td>\n",
       "    </tr>\n",
       "    <tr>\n",
       "      <th>1</th>\n",
       "      <td>sample_1</td>\n",
       "      <td>18.343750</td>\n",
       "      <td>5.824219</td>\n",
       "      <td>2.966797</td>\n",
       "      <td>4.902344</td>\n",
       "      <td>164.625</td>\n",
       "      <td>71.8125</td>\n",
       "      <td>1.357422</td>\n",
       "      <td>5.894531</td>\n",
       "      <td>2.753906</td>\n",
       "      <td>...</td>\n",
       "      <td>7.359375</td>\n",
       "      <td>4.195312</td>\n",
       "      <td>4.808594</td>\n",
       "      <td>5.425781</td>\n",
       "      <td>5.949219</td>\n",
       "      <td>6.339844</td>\n",
       "      <td>6.730469</td>\n",
       "      <td>7.074219</td>\n",
       "      <td>7.175781</td>\n",
       "      <td>1.0</td>\n",
       "    </tr>\n",
       "    <tr>\n",
       "      <th>2</th>\n",
       "      <td>sample_2</td>\n",
       "      <td>28.562500</td>\n",
       "      <td>6.230469</td>\n",
       "      <td>3.583984</td>\n",
       "      <td>7.882812</td>\n",
       "      <td>159.500</td>\n",
       "      <td>113.1875</td>\n",
       "      <td>1.696289</td>\n",
       "      <td>6.316406</td>\n",
       "      <td>4.605469</td>\n",
       "      <td>...</td>\n",
       "      <td>8.562500</td>\n",
       "      <td>4.523438</td>\n",
       "      <td>5.097656</td>\n",
       "      <td>5.789062</td>\n",
       "      <td>6.457031</td>\n",
       "      <td>6.871094</td>\n",
       "      <td>7.386719</td>\n",
       "      <td>7.878906</td>\n",
       "      <td>8.328125</td>\n",
       "      <td>1.0</td>\n",
       "    </tr>\n",
       "    <tr>\n",
       "      <th>3</th>\n",
       "      <td>sample_3</td>\n",
       "      <td>28.062500</td>\n",
       "      <td>6.132812</td>\n",
       "      <td>2.726562</td>\n",
       "      <td>6.378906</td>\n",
       "      <td>169.750</td>\n",
       "      <td>111.0000</td>\n",
       "      <td>1.535156</td>\n",
       "      <td>6.199219</td>\n",
       "      <td>3.712891</td>\n",
       "      <td>...</td>\n",
       "      <td>4.558594</td>\n",
       "      <td>3.533203</td>\n",
       "      <td>3.900391</td>\n",
       "      <td>4.261719</td>\n",
       "      <td>4.042969</td>\n",
       "      <td>3.869141</td>\n",
       "      <td>3.890625</td>\n",
       "      <td>4.042969</td>\n",
       "      <td>4.273438</td>\n",
       "      <td>1.0</td>\n",
       "    </tr>\n",
       "    <tr>\n",
       "      <th>4</th>\n",
       "      <td>sample_4</td>\n",
       "      <td>20.109375</td>\n",
       "      <td>6.144531</td>\n",
       "      <td>3.203125</td>\n",
       "      <td>6.035156</td>\n",
       "      <td>164.750</td>\n",
       "      <td>78.8750</td>\n",
       "      <td>1.281250</td>\n",
       "      <td>6.187500</td>\n",
       "      <td>4.003906</td>\n",
       "      <td>...</td>\n",
       "      <td>6.613281</td>\n",
       "      <td>4.625000</td>\n",
       "      <td>4.996094</td>\n",
       "      <td>5.328125</td>\n",
       "      <td>5.593750</td>\n",
       "      <td>5.800781</td>\n",
       "      <td>6.027344</td>\n",
       "      <td>6.242188</td>\n",
       "      <td>6.449219</td>\n",
       "      <td>0.0</td>\n",
       "    </tr>\n",
       "  </tbody>\n",
       "</table>\n",
       "<p>5 rows × 1614 columns</p>\n",
       "</div>"
      ],
      "text/plain": [
       "  sample_id         f0        f1        f2         f3       f4        f5  \\\n",
       "0  sample_0  25.609375  6.703125  3.652344  10.039062  169.375  102.8125   \n",
       "1  sample_1  18.343750  5.824219  2.966797   4.902344  164.625   71.8125   \n",
       "2  sample_2  28.562500  6.230469  3.583984   7.882812  159.500  113.1875   \n",
       "3  sample_3  28.062500  6.132812  2.726562   6.378906  169.750  111.0000   \n",
       "4  sample_4  20.109375  6.144531  3.203125   6.035156  164.750   78.8750   \n",
       "\n",
       "         f6        f7        f8  ...     f1603     f1604     f1605     f1606  \\\n",
       "0  1.422852  6.722656  8.015625  ...  8.070312  4.363281  5.019531  5.710938   \n",
       "1  1.357422  5.894531  2.753906  ...  7.359375  4.195312  4.808594  5.425781   \n",
       "2  1.696289  6.316406  4.605469  ...  8.562500  4.523438  5.097656  5.789062   \n",
       "3  1.535156  6.199219  3.712891  ...  4.558594  3.533203  3.900391  4.261719   \n",
       "4  1.281250  6.187500  4.003906  ...  6.613281  4.625000  4.996094  5.328125   \n",
       "\n",
       "      f1607     f1608     f1609     f1610     f1611    y  \n",
       "0  6.343750  6.843750  7.289062  7.617188  7.980469  1.0  \n",
       "1  5.949219  6.339844  6.730469  7.074219  7.175781  1.0  \n",
       "2  6.457031  6.871094  7.386719  7.878906  8.328125  1.0  \n",
       "3  4.042969  3.869141  3.890625  4.042969  4.273438  1.0  \n",
       "4  5.593750  5.800781  6.027344  6.242188  6.449219  0.0  \n",
       "\n",
       "[5 rows x 1614 columns]"
      ]
     },
     "execution_count": 223,
     "metadata": {},
     "output_type": "execute_result"
    }
   ],
   "source": [
    "data.head()"
   ]
  },
  {
   "cell_type": "code",
   "execution_count": 224,
   "metadata": {},
   "outputs": [
    {
     "name": "stdout",
     "output_type": "stream",
     "text": [
      "<class 'pandas.core.frame.DataFrame'>\n",
      "RangeIndex: 1095 entries, 0 to 1094\n",
      "Columns: 1614 entries, sample_id to y\n",
      "dtypes: float64(1613), object(1)\n",
      "memory usage: 13.5+ MB\n"
     ]
    }
   ],
   "source": [
    "# Get general information about the dataframe\n",
    "data.info()"
   ]
  },
  {
   "cell_type": "code",
   "execution_count": 225,
   "metadata": {},
   "outputs": [
    {
     "data": {
      "text/html": [
       "<div>\n",
       "<style scoped>\n",
       "    .dataframe tbody tr th:only-of-type {\n",
       "        vertical-align: middle;\n",
       "    }\n",
       "\n",
       "    .dataframe tbody tr th {\n",
       "        vertical-align: top;\n",
       "    }\n",
       "\n",
       "    .dataframe thead th {\n",
       "        text-align: right;\n",
       "    }\n",
       "</style>\n",
       "<table border=\"1\" class=\"dataframe\">\n",
       "  <thead>\n",
       "    <tr style=\"text-align: right;\">\n",
       "      <th></th>\n",
       "      <th>f0</th>\n",
       "      <th>f1</th>\n",
       "      <th>f2</th>\n",
       "      <th>f3</th>\n",
       "      <th>f4</th>\n",
       "      <th>f5</th>\n",
       "      <th>f6</th>\n",
       "      <th>f7</th>\n",
       "      <th>f8</th>\n",
       "      <th>f9</th>\n",
       "      <th>...</th>\n",
       "      <th>f1603</th>\n",
       "      <th>f1604</th>\n",
       "      <th>f1605</th>\n",
       "      <th>f1606</th>\n",
       "      <th>f1607</th>\n",
       "      <th>f1608</th>\n",
       "      <th>f1609</th>\n",
       "      <th>f1610</th>\n",
       "      <th>f1611</th>\n",
       "      <th>y</th>\n",
       "    </tr>\n",
       "  </thead>\n",
       "  <tbody>\n",
       "    <tr>\n",
       "      <th>count</th>\n",
       "      <td>1095.000000</td>\n",
       "      <td>1095.000000</td>\n",
       "      <td>1095.000000</td>\n",
       "      <td>1095.000000</td>\n",
       "      <td>1095.000000</td>\n",
       "      <td>1095.000000</td>\n",
       "      <td>1095.000000</td>\n",
       "      <td>1095.000000</td>\n",
       "      <td>1095.000000</td>\n",
       "      <td>1095.000000</td>\n",
       "      <td>...</td>\n",
       "      <td>1095.000000</td>\n",
       "      <td>1095.000000</td>\n",
       "      <td>1095.000000</td>\n",
       "      <td>1095.000000</td>\n",
       "      <td>1095.000000</td>\n",
       "      <td>1095.000000</td>\n",
       "      <td>1095.000000</td>\n",
       "      <td>1095.000000</td>\n",
       "      <td>1095.000000</td>\n",
       "      <td>1095.000000</td>\n",
       "    </tr>\n",
       "    <tr>\n",
       "      <th>mean</th>\n",
       "      <td>27.888784</td>\n",
       "      <td>6.307381</td>\n",
       "      <td>3.227237</td>\n",
       "      <td>7.552864</td>\n",
       "      <td>164.607648</td>\n",
       "      <td>114.376398</td>\n",
       "      <td>1.496589</td>\n",
       "      <td>6.370684</td>\n",
       "      <td>5.343339</td>\n",
       "      <td>7.842965</td>\n",
       "      <td>...</td>\n",
       "      <td>5.889956</td>\n",
       "      <td>4.042059</td>\n",
       "      <td>4.502239</td>\n",
       "      <td>4.966580</td>\n",
       "      <td>5.371013</td>\n",
       "      <td>5.514062</td>\n",
       "      <td>5.709822</td>\n",
       "      <td>5.868557</td>\n",
       "      <td>5.932324</td>\n",
       "      <td>0.612785</td>\n",
       "    </tr>\n",
       "    <tr>\n",
       "      <th>std</th>\n",
       "      <td>20.639422</td>\n",
       "      <td>0.453696</td>\n",
       "      <td>0.420215</td>\n",
       "      <td>2.447590</td>\n",
       "      <td>4.183401</td>\n",
       "      <td>113.221960</td>\n",
       "      <td>0.261378</td>\n",
       "      <td>0.434857</td>\n",
       "      <td>2.414132</td>\n",
       "      <td>0.407226</td>\n",
       "      <td>...</td>\n",
       "      <td>2.198822</td>\n",
       "      <td>0.472686</td>\n",
       "      <td>0.608721</td>\n",
       "      <td>0.759738</td>\n",
       "      <td>0.930937</td>\n",
       "      <td>1.135693</td>\n",
       "      <td>1.372481</td>\n",
       "      <td>1.590901</td>\n",
       "      <td>1.861157</td>\n",
       "      <td>0.487336</td>\n",
       "    </tr>\n",
       "    <tr>\n",
       "      <th>min</th>\n",
       "      <td>13.351562</td>\n",
       "      <td>5.464844</td>\n",
       "      <td>1.333008</td>\n",
       "      <td>1.700195</td>\n",
       "      <td>152.125000</td>\n",
       "      <td>51.500000</td>\n",
       "      <td>0.919434</td>\n",
       "      <td>5.527344</td>\n",
       "      <td>1.461914</td>\n",
       "      <td>7.117188</td>\n",
       "      <td>...</td>\n",
       "      <td>0.000000</td>\n",
       "      <td>0.693359</td>\n",
       "      <td>0.000000</td>\n",
       "      <td>0.000000</td>\n",
       "      <td>0.000000</td>\n",
       "      <td>0.000000</td>\n",
       "      <td>0.000000</td>\n",
       "      <td>0.000000</td>\n",
       "      <td>0.000000</td>\n",
       "      <td>0.000000</td>\n",
       "    </tr>\n",
       "    <tr>\n",
       "      <th>25%</th>\n",
       "      <td>20.609375</td>\n",
       "      <td>6.003906</td>\n",
       "      <td>2.925781</td>\n",
       "      <td>5.779297</td>\n",
       "      <td>162.062500</td>\n",
       "      <td>81.093750</td>\n",
       "      <td>1.363281</td>\n",
       "      <td>6.070312</td>\n",
       "      <td>3.648438</td>\n",
       "      <td>7.574219</td>\n",
       "      <td>...</td>\n",
       "      <td>5.097656</td>\n",
       "      <td>3.794922</td>\n",
       "      <td>4.234375</td>\n",
       "      <td>4.628906</td>\n",
       "      <td>4.980469</td>\n",
       "      <td>5.035156</td>\n",
       "      <td>5.125000</td>\n",
       "      <td>5.164062</td>\n",
       "      <td>5.128906</td>\n",
       "      <td>0.000000</td>\n",
       "    </tr>\n",
       "    <tr>\n",
       "      <th>50%</th>\n",
       "      <td>23.984375</td>\n",
       "      <td>6.218750</td>\n",
       "      <td>3.222656</td>\n",
       "      <td>7.242188</td>\n",
       "      <td>164.250000</td>\n",
       "      <td>95.062500</td>\n",
       "      <td>1.450195</td>\n",
       "      <td>6.292969</td>\n",
       "      <td>4.867188</td>\n",
       "      <td>7.765625</td>\n",
       "      <td>...</td>\n",
       "      <td>6.347656</td>\n",
       "      <td>4.085938</td>\n",
       "      <td>4.589844</td>\n",
       "      <td>5.093750</td>\n",
       "      <td>5.542969</td>\n",
       "      <td>5.695312</td>\n",
       "      <td>5.929688</td>\n",
       "      <td>6.136719</td>\n",
       "      <td>6.265625</td>\n",
       "      <td>1.000000</td>\n",
       "    </tr>\n",
       "    <tr>\n",
       "      <th>75%</th>\n",
       "      <td>29.320312</td>\n",
       "      <td>6.570312</td>\n",
       "      <td>3.537109</td>\n",
       "      <td>8.980469</td>\n",
       "      <td>166.437500</td>\n",
       "      <td>116.906250</td>\n",
       "      <td>1.574707</td>\n",
       "      <td>6.625000</td>\n",
       "      <td>6.572266</td>\n",
       "      <td>8.070312</td>\n",
       "      <td>...</td>\n",
       "      <td>7.404297</td>\n",
       "      <td>4.335938</td>\n",
       "      <td>4.890625</td>\n",
       "      <td>5.421875</td>\n",
       "      <td>5.929688</td>\n",
       "      <td>6.230469</td>\n",
       "      <td>6.607422</td>\n",
       "      <td>6.935547</td>\n",
       "      <td>7.189453</td>\n",
       "      <td>1.000000</td>\n",
       "    </tr>\n",
       "    <tr>\n",
       "      <th>max</th>\n",
       "      <td>328.000000</td>\n",
       "      <td>9.070312</td>\n",
       "      <td>4.847656</td>\n",
       "      <td>21.406250</td>\n",
       "      <td>184.875000</td>\n",
       "      <td>1833.000000</td>\n",
       "      <td>4.468750</td>\n",
       "      <td>8.898438</td>\n",
       "      <td>19.890625</td>\n",
       "      <td>10.382812</td>\n",
       "      <td>...</td>\n",
       "      <td>11.578125</td>\n",
       "      <td>5.230469</td>\n",
       "      <td>6.003906</td>\n",
       "      <td>6.914062</td>\n",
       "      <td>7.800781</td>\n",
       "      <td>8.601562</td>\n",
       "      <td>9.398438</td>\n",
       "      <td>10.179688</td>\n",
       "      <td>10.929688</td>\n",
       "      <td>1.000000</td>\n",
       "    </tr>\n",
       "  </tbody>\n",
       "</table>\n",
       "<p>8 rows × 1613 columns</p>\n",
       "</div>"
      ],
      "text/plain": [
       "                f0           f1           f2           f3           f4  \\\n",
       "count  1095.000000  1095.000000  1095.000000  1095.000000  1095.000000   \n",
       "mean     27.888784     6.307381     3.227237     7.552864   164.607648   \n",
       "std      20.639422     0.453696     0.420215     2.447590     4.183401   \n",
       "min      13.351562     5.464844     1.333008     1.700195   152.125000   \n",
       "25%      20.609375     6.003906     2.925781     5.779297   162.062500   \n",
       "50%      23.984375     6.218750     3.222656     7.242188   164.250000   \n",
       "75%      29.320312     6.570312     3.537109     8.980469   166.437500   \n",
       "max     328.000000     9.070312     4.847656    21.406250   184.875000   \n",
       "\n",
       "                f5           f6           f7           f8           f9  ...  \\\n",
       "count  1095.000000  1095.000000  1095.000000  1095.000000  1095.000000  ...   \n",
       "mean    114.376398     1.496589     6.370684     5.343339     7.842965  ...   \n",
       "std     113.221960     0.261378     0.434857     2.414132     0.407226  ...   \n",
       "min      51.500000     0.919434     5.527344     1.461914     7.117188  ...   \n",
       "25%      81.093750     1.363281     6.070312     3.648438     7.574219  ...   \n",
       "50%      95.062500     1.450195     6.292969     4.867188     7.765625  ...   \n",
       "75%     116.906250     1.574707     6.625000     6.572266     8.070312  ...   \n",
       "max    1833.000000     4.468750     8.898438    19.890625    10.382812  ...   \n",
       "\n",
       "             f1603        f1604        f1605        f1606        f1607  \\\n",
       "count  1095.000000  1095.000000  1095.000000  1095.000000  1095.000000   \n",
       "mean      5.889956     4.042059     4.502239     4.966580     5.371013   \n",
       "std       2.198822     0.472686     0.608721     0.759738     0.930937   \n",
       "min       0.000000     0.693359     0.000000     0.000000     0.000000   \n",
       "25%       5.097656     3.794922     4.234375     4.628906     4.980469   \n",
       "50%       6.347656     4.085938     4.589844     5.093750     5.542969   \n",
       "75%       7.404297     4.335938     4.890625     5.421875     5.929688   \n",
       "max      11.578125     5.230469     6.003906     6.914062     7.800781   \n",
       "\n",
       "             f1608        f1609        f1610        f1611            y  \n",
       "count  1095.000000  1095.000000  1095.000000  1095.000000  1095.000000  \n",
       "mean      5.514062     5.709822     5.868557     5.932324     0.612785  \n",
       "std       1.135693     1.372481     1.590901     1.861157     0.487336  \n",
       "min       0.000000     0.000000     0.000000     0.000000     0.000000  \n",
       "25%       5.035156     5.125000     5.164062     5.128906     0.000000  \n",
       "50%       5.695312     5.929688     6.136719     6.265625     1.000000  \n",
       "75%       6.230469     6.607422     6.935547     7.189453     1.000000  \n",
       "max       8.601562     9.398438    10.179688    10.929688     1.000000  \n",
       "\n",
       "[8 rows x 1613 columns]"
      ]
     },
     "execution_count": 225,
     "metadata": {},
     "output_type": "execute_result"
    }
   ],
   "source": [
    "# Get basic statistical characteristics\n",
    "data.describe()"
   ]
  },
  {
   "cell_type": "code",
   "execution_count": 226,
   "metadata": {},
   "outputs": [
    {
     "data": {
      "text/html": [
       "<div>\n",
       "<style scoped>\n",
       "    .dataframe tbody tr th:only-of-type {\n",
       "        vertical-align: middle;\n",
       "    }\n",
       "\n",
       "    .dataframe tbody tr th {\n",
       "        vertical-align: top;\n",
       "    }\n",
       "\n",
       "    .dataframe thead th {\n",
       "        text-align: right;\n",
       "    }\n",
       "</style>\n",
       "<table border=\"1\" class=\"dataframe\">\n",
       "  <thead>\n",
       "    <tr style=\"text-align: right;\">\n",
       "      <th></th>\n",
       "      <th>sample_id</th>\n",
       "    </tr>\n",
       "  </thead>\n",
       "  <tbody>\n",
       "    <tr>\n",
       "      <th>count</th>\n",
       "      <td>1095</td>\n",
       "    </tr>\n",
       "    <tr>\n",
       "      <th>unique</th>\n",
       "      <td>1095</td>\n",
       "    </tr>\n",
       "    <tr>\n",
       "      <th>top</th>\n",
       "      <td>sample_202</td>\n",
       "    </tr>\n",
       "    <tr>\n",
       "      <th>freq</th>\n",
       "      <td>1</td>\n",
       "    </tr>\n",
       "  </tbody>\n",
       "</table>\n",
       "</div>"
      ],
      "text/plain": [
       "         sample_id\n",
       "count         1095\n",
       "unique        1095\n",
       "top     sample_202\n",
       "freq             1"
      ]
     },
     "execution_count": 226,
     "metadata": {},
     "output_type": "execute_result"
    }
   ],
   "source": [
    "# Let's look at statistics on non-numerical features. All values are unique.\n",
    "data.describe(include=['object'])"
   ]
  },
  {
   "cell_type": "code",
   "execution_count": 227,
   "metadata": {},
   "outputs": [
    {
     "data": {
      "text/plain": [
       "array([1., 0.])"
      ]
     },
     "execution_count": 227,
     "metadata": {},
     "output_type": "execute_result"
    }
   ],
   "source": [
    "# Check label values\n",
    "data['y'].unique()"
   ]
  },
  {
   "cell_type": "code",
   "execution_count": 228,
   "metadata": {},
   "outputs": [],
   "source": [
    "# Check if any columns are empty\n",
    "col_names = data.columns\n",
    "for col in col_names:\n",
    "    if data[col].empty:\n",
    "        print(f'DataFrame column {name} is empty!')"
   ]
  },
  {
   "cell_type": "code",
   "execution_count": 229,
   "metadata": {},
   "outputs": [
    {
     "data": {
      "image/png": "[encoded data removed]",
      "text/plain": [
       "<Figure size 432x288 with 1 Axes>"
      ]
     },
     "metadata": {
      "needs_background": "light"
     },
     "output_type": "display_data"
    }
   ],
   "source": [
    "# Check class distribution\n",
    "sns.countplot(data['y'],label=\"Sum\")\n",
    "plt.show()"
   ]
  },
  {
   "cell_type": "code",
   "execution_count": 230,
   "metadata": {},
   "outputs": [],
   "source": [
    "# Replace inf values with np.nan, then replace nan with 0\n",
    "data.replace([np.inf, -np.inf], np.nan,inplace=True)\n",
    "data = data.fillna(0) # Check mean"
   ]
  },
  {
   "cell_type": "code",
   "execution_count": 231,
   "metadata": {},
   "outputs": [
    {
     "data": {
      "text/plain": [
       "False"
      ]
     },
     "execution_count": 231,
     "metadata": {},
     "output_type": "execute_result"
    }
   ],
   "source": [
    "# Check if contains null values\n",
    "data.isnull().values.any()"
   ]
  },
  {
   "cell_type": "code",
   "execution_count": 232,
   "metadata": {},
   "outputs": [
    {
     "name": "stdout",
     "output_type": "stream",
     "text": [
      "All values are finite:  True\n"
     ]
    }
   ],
   "source": [
    "print(\"All values are finite: \", np.all(np.isfinite(data.iloc[:,1:].head())))"
   ]
  },
  {
   "cell_type": "markdown",
   "metadata": {},
   "source": [
    "### Normalize features and split data"
   ]
  },
  {
   "cell_type": "code",
   "execution_count": 239,
   "metadata": {},
   "outputs": [],
   "source": [
    "# Features\n",
    "X = data.drop(['sample_id', 'y'], axis=1)\n",
    "# Labels\n",
    "y = data['y']"
   ]
  },
  {
   "cell_type": "code",
   "execution_count": 240,
   "metadata": {},
   "outputs": [],
   "source": [
    "# Features normalization\n",
    "features_norm = StandardScaler() \n",
    "X_std = features_norm.fit_transform(X) \n"
   ]
  },
  {
   "cell_type": "code",
   "execution_count": 241,
   "metadata": {},
   "outputs": [],
   "source": [
    "# Split data in train/test\n",
    "X_train, x_test, Y_train, y_test = train_test_split(X_std, y, test_size=0.2, random_state=42)"
   ]
  },
  {
   "cell_type": "markdown",
   "metadata": {},
   "source": [
    "### Train base models using cross-validation"
   ]
  },
  {
   "cell_type": "code",
   "execution_count": 148,
   "metadata": {},
   "outputs": [],
   "source": [
    "# Random forest classifier\n",
    "rf = RandomForestClassifier()\n",
    "\n",
    "scoring = ['accuracy', 'precision_macro', 'recall_macro' , 'f1_weighted', 'roc_auc']\n",
    "\n",
    "# Train with cross_validation\n",
    "scores_rf = cross_validate(rf, X_train, Y_train, scoring=scoring, cv=5)\n",
    "\n",
    "sorted(scores_rf.keys())\n",
    "forest_fit_time = scores_rf['fit_time'].mean()\n",
    "forest_score_time = scores_rf['score_time'].mean()\n",
    "forest_accuracy = scores_rf['test_accuracy'].mean()\n",
    "forest_precision = scores_rf['test_precision_macro'].mean()\n",
    "forest_recall = scores_rf['test_recall_macro'].mean()\n",
    "forest_f1 = scores_rf['test_f1_weighted'].mean()\n",
    "forest_roc = scores_rf['test_roc_auc'].mean()"
   ]
  },
  {
   "cell_type": "code",
   "execution_count": 149,
   "metadata": {},
   "outputs": [],
   "source": [
    "# XGBoost classifier\n",
    "xgb_clf = XGBClassifier()\n",
    "\n",
    "scoring = ['accuracy', 'precision_macro', 'recall_macro' , 'f1_weighted', 'roc_auc']\n",
    "\n",
    "# Train with cross_validation\n",
    "scores_xgb = cross_validate(xgb_clf, X_train, Y_train, scoring=scoring, cv=5)\n",
    "\n",
    "sorted(scores_xgb.keys())\n",
    "XGB_fit_time = scores_xgb['fit_time'].mean()\n",
    "XGB_score_time = scores_xgb['score_time'].mean()\n",
    "XGB_accuracy = scores_xgb['test_accuracy'].mean()\n",
    "XGB_precision = scores_xgb['test_precision_macro'].mean()\n",
    "XGB_recall = scores_xgb['test_recall_macro'].mean()\n",
    "XGB_f1 = scores_xgb['test_f1_weighted'].mean()\n",
    "XGB_roc = scores_xgb['test_roc_auc'].mean()"
   ]
  },
  {
   "cell_type": "code",
   "execution_count": 150,
   "metadata": {},
   "outputs": [],
   "source": [
    "# Support vector machine\n",
    "SVM = SVC(probability = True)\n",
    "\n",
    "scoring = ['accuracy','precision_macro', 'recall_macro' , 'f1_weighted', 'roc_auc']\n",
    "\n",
    "# Train with cross_validation\n",
    "scores_svm = cross_validate(SVM, X_train, Y_train, scoring=scoring, cv=5)\n",
    "\n",
    "sorted(scores_svm.keys())\n",
    "SVM_fit_time = scores_svm['fit_time'].mean()\n",
    "SVM_score_time = scores_svm['score_time'].mean()\n",
    "SVM_accuracy = scores_svm['test_accuracy'].mean()\n",
    "SVM_precision = scores_svm['test_precision_macro'].mean()\n",
    "SVM_recall = scores_svm['test_recall_macro'].mean()\n",
    "SVM_f1 = scores_svm['test_f1_weighted'].mean()\n",
    "SVM_roc = scores_svm['test_roc_auc'].mean()"
   ]
  },
  {
   "cell_type": "code",
   "execution_count": 243,
   "metadata": {},
   "outputs": [],
   "source": [
    "# K-Nearest Neighbors\n",
    "KNN = KNeighborsClassifier()\n",
    "\n",
    "scoring = ['accuracy', 'precision_macro', 'recall_macro' , 'f1_weighted', 'roc_auc']\n",
    "scores_knn = cross_validate(KNN, X_train, Y_train, scoring=scoring, cv=5)\n",
    "\n",
    "sorted(scores_knn.keys())\n",
    "KNN_fit_time = scores_knn['fit_time'].mean()\n",
    "KNN_score_time = scores_knn['score_time'].mean()\n",
    "KNN_accuracy = scores_knn['test_accuracy'].mean()\n",
    "KNN_precision = scores_knn['test_precision_macro'].mean()\n",
    "KNN_recall = scores_knn['test_recall_macro'].mean()\n",
    "KNN_f1 = scores_knn['test_f1_weighted'].mean()\n",
    "KNN_roc = scores_knn['test_roc_auc'].mean()"
   ]
  },
  {
   "cell_type": "code",
   "execution_count": 263,
   "metadata": {},
   "outputs": [
    {
     "data": {
      "text/html": [
       "<div>\n",
       "<style scoped>\n",
       "    .dataframe tbody tr th:only-of-type {\n",
       "        vertical-align: middle;\n",
       "    }\n",
       "\n",
       "    .dataframe tbody tr th {\n",
       "        vertical-align: top;\n",
       "    }\n",
       "\n",
       "    .dataframe thead th {\n",
       "        text-align: right;\n",
       "    }\n",
       "</style>\n",
       "<table border=\"1\" class=\"dataframe\">\n",
       "  <thead>\n",
       "    <tr style=\"text-align: right;\">\n",
       "      <th></th>\n",
       "      <th>Model</th>\n",
       "      <th>Fitting time</th>\n",
       "      <th>Scoring time</th>\n",
       "      <th>Accuracy</th>\n",
       "      <th>Precision</th>\n",
       "      <th>Recall</th>\n",
       "      <th>F1_score</th>\n",
       "      <th>AUC_ROC</th>\n",
       "    </tr>\n",
       "  </thead>\n",
       "  <tbody>\n",
       "    <tr>\n",
       "      <th>0</th>\n",
       "      <td>Support Vector Machine</td>\n",
       "      <td>3.898561</td>\n",
       "      <td>0.360999</td>\n",
       "      <td>0.770506</td>\n",
       "      <td>0.765493</td>\n",
       "      <td>0.742750</td>\n",
       "      <td>0.765072</td>\n",
       "      <td>0.845206</td>\n",
       "    </tr>\n",
       "    <tr>\n",
       "      <th>2</th>\n",
       "      <td>XGBClassifier</td>\n",
       "      <td>1.688386</td>\n",
       "      <td>0.062355</td>\n",
       "      <td>0.760247</td>\n",
       "      <td>0.750365</td>\n",
       "      <td>0.738129</td>\n",
       "      <td>0.757151</td>\n",
       "      <td>0.843954</td>\n",
       "    </tr>\n",
       "    <tr>\n",
       "      <th>3</th>\n",
       "      <td>KNN</td>\n",
       "      <td>0.054905</td>\n",
       "      <td>0.674974</td>\n",
       "      <td>0.749961</td>\n",
       "      <td>0.745766</td>\n",
       "      <td>0.715987</td>\n",
       "      <td>0.741650</td>\n",
       "      <td>0.800282</td>\n",
       "    </tr>\n",
       "    <tr>\n",
       "      <th>1</th>\n",
       "      <td>Random Forest</td>\n",
       "      <td>0.134638</td>\n",
       "      <td>0.019775</td>\n",
       "      <td>0.731507</td>\n",
       "      <td>0.718880</td>\n",
       "      <td>0.702308</td>\n",
       "      <td>0.726170</td>\n",
       "      <td>0.790657</td>\n",
       "    </tr>\n",
       "  </tbody>\n",
       "</table>\n",
       "</div>"
      ],
      "text/plain": [
       "                    Model  Fitting time  Scoring time  Accuracy  Precision  \\\n",
       "0  Support Vector Machine      3.898561      0.360999  0.770506   0.765493   \n",
       "2           XGBClassifier      1.688386      0.062355  0.760247   0.750365   \n",
       "3                     KNN      0.054905      0.674974  0.749961   0.745766   \n",
       "1           Random Forest      0.134638      0.019775  0.731507   0.718880   \n",
       "\n",
       "     Recall  F1_score   AUC_ROC  \n",
       "0  0.742750  0.765072  0.845206  \n",
       "2  0.738129  0.757151  0.843954  \n",
       "3  0.715987  0.741650  0.800282  \n",
       "1  0.702308  0.726170  0.790657  "
      ]
     },
     "execution_count": 263,
     "metadata": {},
     "output_type": "execute_result"
    }
   ],
   "source": [
    "# Comparison of algorithms\n",
    "models_initial = pd.DataFrame({\n",
    "    'Model'       : ['Support Vector Machine', 'Random Forest', 'XGBClassifier', 'KNN'],\n",
    "    'Fitting time': [SVM_fit_time, forest_fit_time, XGB_fit_time, KNN_fit_time],\n",
    "    'Scoring time': [SVM_score_time, forest_score_time, XGB_score_time, KNN_score_time],\n",
    "    'Accuracy'    : [SVM_accuracy, forest_accuracy, XGB_accuracy, KNN_accuracy],\n",
    "    'Precision'   : [SVM_precision, forest_precision, XGB_precision, KNN_precision],\n",
    "    'Recall'      : [SVM_recall, forest_recall, XGB_recall, KNN_recall],\n",
    "    'F1_score'    : [SVM_f1, forest_f1, XGB_f1, KNN_f1],\n",
    "    'AUC_ROC'     : [SVM_roc, forest_roc, XGB_roc, KNN_roc],\n",
    "    }, columns = ['Model', 'Fitting time', 'Scoring time', 'Accuracy', 'Precision', 'Recall', 'F1_score', 'AUC_ROC'])\n",
    "\n",
    "models_initial.sort_values(by='AUC_ROC', ascending=False)"
   ]
  },
  {
   "cell_type": "code",
   "execution_count": 265,
   "metadata": {},
   "outputs": [
    {
     "data": {
      "text/plain": [
       "Text(0, 0.5, 'AUC_ROC')"
      ]
     },
     "execution_count": 265,
     "metadata": {},
     "output_type": "execute_result"
    },
    {
     "data": {
      "image/png": "[encoded data removed]",
      "text/plain": [
       "<Figure size 432x288 with 1 Axes>"
      ]
     },
     "metadata": {
      "needs_background": "light"
     },
     "output_type": "display_data"
    }
   ],
   "source": [
    "ax = models_initial.sort_values(by='Accuracy', ascending=False).plot.bar(x='Model', y='AUC_ROC', rot=30)\n",
    "ax.set_ylabel(\"AUC_ROC\")"
   ]
  },
  {
   "cell_type": "markdown",
   "metadata": {},
   "source": [
    "Recap: Random forest has the lowest accuracy, so we will not use it in stacking"
   ]
  },
  {
   "cell_type": "markdown",
   "metadata": {},
   "source": [
    "### Dimension reduction using PCA & TSNe"
   ]
  },
  {
   "cell_type": "code",
   "execution_count": 281,
   "metadata": {},
   "outputs": [],
   "source": [
    "n_comp = 250\n",
    "pca = PCA(n_components=n_comp)\n",
    "X_train_pca = pca.fit_transform(X_train)"
   ]
  },
  {
   "cell_type": "code",
   "execution_count": 345,
   "metadata": {},
   "outputs": [
    {
     "name": "stdout",
     "output_type": "stream",
     "text": [
      "Explained variance: 0.9947\n"
     ]
    }
   ],
   "source": [
    "print('Explained variance: %.4f' % pca.explained_variance_ratio_.sum())"
   ]
  },
  {
   "cell_type": "code",
   "execution_count": 290,
   "metadata": {},
   "outputs": [],
   "source": [
    "# Random forest classifier\n",
    "rf = RandomForestClassifier()\n",
    "\n",
    "scoring = ['accuracy', 'precision_macro', 'recall_macro' , 'f1_weighted', 'roc_auc']\n",
    "\n",
    "# Train with cross_validation\n",
    "scores_rf = cross_validate(rf, X_train_pca, Y_train, scoring=scoring, cv=5)\n",
    "\n",
    "sorted(scores_rf.keys())\n",
    "forest_fit_time = scores_rf['fit_time'].mean()\n",
    "forest_score_time = scores_rf['score_time'].mean()\n",
    "forest_accuracy = scores_rf['test_accuracy'].mean()\n",
    "forest_precision = scores_rf['test_precision_macro'].mean()\n",
    "forest_recall = scores_rf['test_recall_macro'].mean()\n",
    "forest_f1 = scores_rf['test_f1_weighted'].mean()\n",
    "forest_roc = scores_rf['test_roc_auc'].mean()"
   ]
  },
  {
   "cell_type": "code",
   "execution_count": 284,
   "metadata": {},
   "outputs": [],
   "source": [
    "# XGBoost classifier\n",
    "xgb_clf = XGBClassifier()\n",
    "\n",
    "scoring = ['accuracy', 'precision_macro', 'recall_macro' , 'f1_weighted', 'roc_auc']\n",
    "\n",
    "# Train with cross_validation\n",
    "scores_xgb = cross_validate(xgb_clf, X_train_pca, Y_train, scoring=scoring, cv=5)\n",
    "\n",
    "sorted(scores_xgb.keys())\n",
    "XGB_fit_time = scores_xgb['fit_time'].mean()\n",
    "XGB_score_time = scores_xgb['score_time'].mean()\n",
    "XGB_accuracy = scores_xgb['test_accuracy'].mean()\n",
    "XGB_precision = scores_xgb['test_precision_macro'].mean()\n",
    "XGB_recall = scores_xgb['test_recall_macro'].mean()\n",
    "XGB_f1 = scores_xgb['test_f1_weighted'].mean()\n",
    "XGB_roc = scores_xgb['test_roc_auc'].mean()"
   ]
  },
  {
   "cell_type": "code",
   "execution_count": 285,
   "metadata": {},
   "outputs": [],
   "source": [
    "# Support vector machine\n",
    "SVM = SVC(probability = True)\n",
    "\n",
    "scoring = ['accuracy','precision_macro', 'recall_macro' , 'f1_weighted', 'roc_auc']\n",
    "\n",
    "# Train with cross_validation\n",
    "scores_svm = cross_validate(SVM, X_train_pca, Y_train, scoring=scoring, cv=5)\n",
    "\n",
    "sorted(scores_svm.keys())\n",
    "SVM_fit_time = scores_svm['fit_time'].mean()\n",
    "SVM_score_time = scores_svm['score_time'].mean()\n",
    "SVM_accuracy = scores_svm['test_accuracy'].mean()\n",
    "SVM_precision = scores_svm['test_precision_macro'].mean()\n",
    "SVM_recall = scores_svm['test_recall_macro'].mean()\n",
    "SVM_f1 = scores_svm['test_f1_weighted'].mean()\n",
    "SVM_roc = scores_svm['test_roc_auc'].mean()"
   ]
  },
  {
   "cell_type": "code",
   "execution_count": 286,
   "metadata": {},
   "outputs": [],
   "source": [
    "# K-Nearest Neighbors\n",
    "KNN = KNeighborsClassifier()\n",
    "\n",
    "scoring = ['accuracy', 'precision_macro', 'recall_macro' , 'f1_weighted', 'roc_auc']\n",
    "scores_knn = cross_validate(KNN, X_train_pca, Y_train, scoring=scoring, cv=5)\n",
    "\n",
    "sorted(scores_knn.keys())\n",
    "KNN_fit_time = scores_knn['fit_time'].mean()\n",
    "KNN_score_time = scores_knn['score_time'].mean()\n",
    "KNN_accuracy = scores_knn['test_accuracy'].mean()\n",
    "KNN_precision = scores_knn['test_precision_macro'].mean()\n",
    "KNN_recall = scores_knn['test_recall_macro'].mean()\n",
    "KNN_f1 = scores_knn['test_f1_weighted'].mean()\n",
    "KNN_roc = scores_knn['test_roc_auc'].mean()"
   ]
  },
  {
   "cell_type": "code",
   "execution_count": 291,
   "metadata": {},
   "outputs": [
    {
     "data": {
      "text/html": [
       "<div>\n",
       "<style scoped>\n",
       "    .dataframe tbody tr th:only-of-type {\n",
       "        vertical-align: middle;\n",
       "    }\n",
       "\n",
       "    .dataframe tbody tr th {\n",
       "        vertical-align: top;\n",
       "    }\n",
       "\n",
       "    .dataframe thead th {\n",
       "        text-align: right;\n",
       "    }\n",
       "</style>\n",
       "<table border=\"1\" class=\"dataframe\">\n",
       "  <thead>\n",
       "    <tr style=\"text-align: right;\">\n",
       "      <th></th>\n",
       "      <th>Model</th>\n",
       "      <th>Fitting time</th>\n",
       "      <th>Scoring time</th>\n",
       "      <th>Accuracy</th>\n",
       "      <th>Precision</th>\n",
       "      <th>Recall</th>\n",
       "      <th>F1_score</th>\n",
       "      <th>AUC_ROC</th>\n",
       "    </tr>\n",
       "  </thead>\n",
       "  <tbody>\n",
       "    <tr>\n",
       "      <th>0</th>\n",
       "      <td>Support Vector Machine</td>\n",
       "      <td>0.541141</td>\n",
       "      <td>0.057463</td>\n",
       "      <td>0.770500</td>\n",
       "      <td>0.765426</td>\n",
       "      <td>0.742750</td>\n",
       "      <td>0.765096</td>\n",
       "      <td>0.845043</td>\n",
       "    </tr>\n",
       "    <tr>\n",
       "      <th>2</th>\n",
       "      <td>XGBClassifier</td>\n",
       "      <td>0.325819</td>\n",
       "      <td>0.007154</td>\n",
       "      <td>0.752234</td>\n",
       "      <td>0.744177</td>\n",
       "      <td>0.723676</td>\n",
       "      <td>0.746711</td>\n",
       "      <td>0.812840</td>\n",
       "    </tr>\n",
       "    <tr>\n",
       "      <th>3</th>\n",
       "      <td>KNN</td>\n",
       "      <td>0.006831</td>\n",
       "      <td>0.084418</td>\n",
       "      <td>0.748812</td>\n",
       "      <td>0.744498</td>\n",
       "      <td>0.714516</td>\n",
       "      <td>0.740238</td>\n",
       "      <td>0.801308</td>\n",
       "    </tr>\n",
       "    <tr>\n",
       "      <th>1</th>\n",
       "      <td>Random Forest</td>\n",
       "      <td>0.556545</td>\n",
       "      <td>0.021053</td>\n",
       "      <td>0.719208</td>\n",
       "      <td>0.717335</td>\n",
       "      <td>0.674508</td>\n",
       "      <td>0.704109</td>\n",
       "      <td>0.783618</td>\n",
       "    </tr>\n",
       "  </tbody>\n",
       "</table>\n",
       "</div>"
      ],
      "text/plain": [
       "                    Model  Fitting time  Scoring time  Accuracy  Precision  \\\n",
       "0  Support Vector Machine      0.541141      0.057463  0.770500   0.765426   \n",
       "2           XGBClassifier      0.325819      0.007154  0.752234   0.744177   \n",
       "3                     KNN      0.006831      0.084418  0.748812   0.744498   \n",
       "1           Random Forest      0.556545      0.021053  0.719208   0.717335   \n",
       "\n",
       "     Recall  F1_score   AUC_ROC  \n",
       "0  0.742750  0.765096  0.845043  \n",
       "2  0.723676  0.746711  0.812840  \n",
       "3  0.714516  0.740238  0.801308  \n",
       "1  0.674508  0.704109  0.783618  "
      ]
     },
     "execution_count": 291,
     "metadata": {},
     "output_type": "execute_result"
    }
   ],
   "source": [
    "# Comparison of algorithms\n",
    "models_pca = pd.DataFrame({\n",
    "    'Model'       : ['Support Vector Machine', 'Random Forest', 'XGBClassifier', 'KNN'],\n",
    "    'Fitting time': [SVM_fit_time, forest_fit_time, XGB_fit_time, KNN_fit_time],\n",
    "    'Scoring time': [SVM_score_time, forest_score_time, XGB_score_time, KNN_score_time],\n",
    "    'Accuracy'    : [SVM_accuracy, forest_accuracy, XGB_accuracy, KNN_accuracy],\n",
    "    'Precision'   : [SVM_precision, forest_precision, XGB_precision, KNN_precision],\n",
    "    'Recall'      : [SVM_recall, forest_recall, XGB_recall, KNN_recall],\n",
    "    'F1_score'    : [SVM_f1, forest_f1, XGB_f1, KNN_f1],\n",
    "    'AUC_ROC'     : [SVM_roc, forest_roc, XGB_roc, KNN_roc],\n",
    "    }, columns = ['Model', 'Fitting time', 'Scoring time', 'Accuracy', 'Precision', 'Recall', 'F1_score', 'AUC_ROC'])\n",
    "\n",
    "models_pca.sort_values(by='AUC_ROC', ascending=False)"
   ]
  },
  {
   "cell_type": "markdown",
   "metadata": {},
   "source": [
    "### Build a t-SNE representation:"
   ]
  },
  {
   "cell_type": "code",
   "execution_count": 330,
   "metadata": {},
   "outputs": [
    {
     "name": "stdout",
     "output_type": "stream",
     "text": [
      "[t-SNE] Computing 91 nearest neighbors...\n",
      "[t-SNE] Indexed 876 samples in 0.084s...\n",
      "[t-SNE] Computed neighbors for 876 samples in 1.920s...\n",
      "[t-SNE] Computed conditional probabilities for sample 876 / 876\n",
      "[t-SNE] Mean sigma: 8.696504\n",
      "[t-SNE] KL divergence after 250 iterations with early exaggeration: 71.452217\n",
      "[t-SNE] KL divergence after 500 iterations: 1.001845\n",
      "[t-SNE] Computing 91 nearest neighbors...\n",
      "[t-SNE] Indexed 219 samples in 0.008s...\n",
      "[t-SNE] Computed neighbors for 219 samples in 0.100s...\n",
      "[t-SNE] Computed conditional probabilities for sample 219 / 219\n",
      "[t-SNE] Mean sigma: 12.647455\n",
      "[t-SNE] KL divergence after 250 iterations with early exaggeration: 65.040627\n",
      "[t-SNE] KL divergence after 500 iterations: 0.682082\n"
     ]
    },
    {
     "data": {
      "image/png": "[encoded data removed]",
      "text/plain": [
       "<Figure size 432x288 with 1 Axes>"
      ]
     },
     "metadata": {
      "needs_background": "light"
     },
     "output_type": "display_data"
    }
   ],
   "source": [
    "tsne = TSNE(n_components=2, init='pca', random_state=1001, n_iter=500, verbose=1)\n",
    "X_train_tsne = tsne.fit_transform(X_train)\n",
    "\n",
    "x_test_tsne = tsne.fit_transform(x_test)\n",
    "\n",
    "# plot tsne\n",
    "plt.scatter(X_tsne[:, 0], X_tsne[:, 1], alpha=.5);"
   ]
  },
  {
   "cell_type": "code",
   "execution_count": 331,
   "metadata": {},
   "outputs": [],
   "source": [
    "models = [SVC(probability = True), XGBClassifier(), KNeighborsClassifier()]\n",
    "\n",
    "scoring = ['accuracy', 'precision_macro', 'recall_macro' , 'f1_weighted', 'roc_auc']"
   ]
  },
  {
   "cell_type": "code",
   "execution_count": 332,
   "metadata": {},
   "outputs": [],
   "source": [
    "models_ens = list(zip(['SVM', 'XGB', 'KNN'], models))\n",
    "model_ens = VotingClassifier(estimators = models_ens, voting = 'soft')\n",
    "model_ens.fit(X_train_tsne, Y_train)\n",
    "pred = model_ens.predict(x_test_tsne)\n",
    "prob = model_ens.predict_proba(x_test_tsne)[:,1]\n",
    "\n",
    "acc_soft = accuracy_score(y_test, pred)\n",
    "prec_soft = precision_score(y_test, pred)\n",
    "recall_soft = recall_score(y_test, pred)\n",
    "f1_soft = f1_score(y_test, pred)\n",
    "roc_auc_soft = roc_auc_score(y_test, prob)"
   ]
  },
  {
   "cell_type": "code",
   "execution_count": 333,
   "metadata": {},
   "outputs": [
    {
     "data": {
      "text/html": [
       "<div>\n",
       "<style scoped>\n",
       "    .dataframe tbody tr th:only-of-type {\n",
       "        vertical-align: middle;\n",
       "    }\n",
       "\n",
       "    .dataframe tbody tr th {\n",
       "        vertical-align: top;\n",
       "    }\n",
       "\n",
       "    .dataframe thead th {\n",
       "        text-align: right;\n",
       "    }\n",
       "</style>\n",
       "<table border=\"1\" class=\"dataframe\">\n",
       "  <thead>\n",
       "    <tr style=\"text-align: right;\">\n",
       "      <th></th>\n",
       "      <th>Model</th>\n",
       "      <th>Accuracy</th>\n",
       "      <th>Precision</th>\n",
       "      <th>Recall</th>\n",
       "      <th>F1_score</th>\n",
       "      <th>AUC_ROC</th>\n",
       "    </tr>\n",
       "  </thead>\n",
       "  <tbody>\n",
       "    <tr>\n",
       "      <th>0</th>\n",
       "      <td>Ensembling_soft</td>\n",
       "      <td>0.593607</td>\n",
       "      <td>0.615385</td>\n",
       "      <td>0.934307</td>\n",
       "      <td>0.742029</td>\n",
       "      <td>0.485669</td>\n",
       "    </tr>\n",
       "  </tbody>\n",
       "</table>\n",
       "</div>"
      ],
      "text/plain": [
       "             Model  Accuracy  Precision    Recall  F1_score   AUC_ROC\n",
       "0  Ensembling_soft  0.593607   0.615385  0.934307  0.742029  0.485669"
      ]
     },
     "execution_count": 333,
     "metadata": {},
     "output_type": "execute_result"
    }
   ],
   "source": [
    "models_ensembling_tsne = pd.DataFrame({\n",
    "    'Model'       : ['Ensembling_soft'],\n",
    "    'Accuracy'    : [acc_soft],\n",
    "    'Precision'   : [prec_soft],\n",
    "    'Recall'      : [recall_soft],\n",
    "    'F1_score'    : [f1_soft],\n",
    "    'AUC_ROC'     : [roc_auc_soft],\n",
    "    }, columns = ['Model', 'Accuracy', 'Precision', 'Recall', 'F1_score', 'AUC_ROC'])\n",
    "\n",
    "models_ensembling_tsne.sort_values(by='AUC_ROC', ascending=False)"
   ]
  },
  {
   "cell_type": "markdown",
   "metadata": {},
   "source": [
    "### Voting classifier"
   ]
  },
  {
   "cell_type": "code",
   "execution_count": 245,
   "metadata": {},
   "outputs": [],
   "source": [
    "models = [SVC(probability = True), XGBClassifier(), KNeighborsClassifier()]\n",
    "\n",
    "scoring = ['accuracy', 'precision_macro', 'recall_macro' , 'f1_weighted', 'roc_auc']"
   ]
  },
  {
   "cell_type": "code",
   "execution_count": 266,
   "metadata": {},
   "outputs": [],
   "source": [
    "models_ens = list(zip(['SVM', 'XGB', 'KNN'], models))\n",
    "model_ens = VotingClassifier(estimators = models_ens, voting = 'soft')\n",
    "model_ens.fit(X_train, Y_train)\n",
    "pred = model_ens.predict(x_test)\n",
    "prob = model_ens.predict_proba(x_test)[:,1]\n",
    "\n",
    "acc_soft = accuracy_score(y_test, pred)\n",
    "prec_soft = precision_score(y_test, pred)\n",
    "recall_soft = recall_score(y_test, pred)\n",
    "f1_soft = f1_score(y_test, pred)\n",
    "roc_auc_soft = roc_auc_score(y_test, prob)"
   ]
  },
  {
   "cell_type": "code",
   "execution_count": 267,
   "metadata": {},
   "outputs": [
    {
     "data": {
      "text/html": [
       "<div>\n",
       "<style scoped>\n",
       "    .dataframe tbody tr th:only-of-type {\n",
       "        vertical-align: middle;\n",
       "    }\n",
       "\n",
       "    .dataframe tbody tr th {\n",
       "        vertical-align: top;\n",
       "    }\n",
       "\n",
       "    .dataframe thead th {\n",
       "        text-align: right;\n",
       "    }\n",
       "</style>\n",
       "<table border=\"1\" class=\"dataframe\">\n",
       "  <thead>\n",
       "    <tr style=\"text-align: right;\">\n",
       "      <th></th>\n",
       "      <th>Model</th>\n",
       "      <th>Accuracy</th>\n",
       "      <th>Precision</th>\n",
       "      <th>Recall</th>\n",
       "      <th>F1_score</th>\n",
       "      <th>AUC_ROC</th>\n",
       "    </tr>\n",
       "  </thead>\n",
       "  <tbody>\n",
       "    <tr>\n",
       "      <th>0</th>\n",
       "      <td>Ensembling_soft</td>\n",
       "      <td>0.821918</td>\n",
       "      <td>0.826667</td>\n",
       "      <td>0.905109</td>\n",
       "      <td>0.864111</td>\n",
       "      <td>0.891846</td>\n",
       "    </tr>\n",
       "  </tbody>\n",
       "</table>\n",
       "</div>"
      ],
      "text/plain": [
       "             Model  Accuracy  Precision    Recall  F1_score   AUC_ROC\n",
       "0  Ensembling_soft  0.821918   0.826667  0.905109  0.864111  0.891846"
      ]
     },
     "execution_count": 267,
     "metadata": {},
     "output_type": "execute_result"
    }
   ],
   "source": [
    "models_ensembling = pd.DataFrame({\n",
    "    'Model'       : ['Ensembling_soft'],\n",
    "    'Accuracy'    : [acc_soft],\n",
    "    'Precision'   : [prec_soft],\n",
    "    'Recall'      : [recall_soft],\n",
    "    'F1_score'    : [f1_soft],\n",
    "    'AUC_ROC'     : [roc_auc_soft],\n",
    "    }, columns = ['Model', 'Accuracy', 'Precision', 'Recall', 'F1_score', 'AUC_ROC'])\n",
    "\n",
    "models_ensembling.sort_values(by='AUC_ROC', ascending=False)"
   ]
  },
  {
   "cell_type": "markdown",
   "metadata": {},
   "source": [
    "### Feature selection"
   ]
  },
  {
   "cell_type": "code",
   "execution_count": 335,
   "metadata": {},
   "outputs": [
    {
     "name": "stderr",
     "output_type": "stream",
     "text": [
      "/home/stefan/anaconda2/envs/ml_env/lib/python3.8/site-packages/sklearn/svm/_base.py:976: ConvergenceWarning: Liblinear failed to converge, increase the number of iterations.\n",
      "  warnings.warn(\"Liblinear failed to converge, increase \"\n"
     ]
    },
    {
     "data": {
      "text/plain": [
       "(876, 568)"
      ]
     },
     "execution_count": 335,
     "metadata": {},
     "output_type": "execute_result"
    }
   ],
   "source": [
    "lsvc = LinearSVC().fit(X_train, Y_train)\n",
    "model = SelectFromModel(lsvc, prefit=True)\n",
    "X_train_svc = model.transform(X_train)\n",
    "X_train_svc.shape"
   ]
  },
  {
   "cell_type": "code",
   "execution_count": 336,
   "metadata": {},
   "outputs": [
    {
     "data": {
      "text/plain": [
       "(219, 568)"
      ]
     },
     "execution_count": 336,
     "metadata": {},
     "output_type": "execute_result"
    }
   ],
   "source": [
    "x_test_svc = model.transform(x_test)\n",
    "x_test_svc.shape"
   ]
  },
  {
   "cell_type": "code",
   "execution_count": 337,
   "metadata": {},
   "outputs": [],
   "source": [
    "models = [SVC(probability = True), XGBClassifier(), KNeighborsClassifier()]\n",
    "\n",
    "scoring = ['accuracy', 'precision_macro', 'recall_macro' , 'f1_weighted', 'roc_auc']"
   ]
  },
  {
   "cell_type": "code",
   "execution_count": 338,
   "metadata": {},
   "outputs": [],
   "source": [
    "models_ens = list(zip(['SVM', 'XGB', 'KNN'], models))\n",
    "model_ens = VotingClassifier(estimators = models_ens, voting = 'soft')\n",
    "model_ens.fit(X_train_svc, Y_train)\n",
    "pred = model_ens.predict(x_test_svc)\n",
    "prob = model_ens.predict_proba(x_test_svc)[:,1]\n",
    "\n",
    "acc_soft = accuracy_score(y_test, pred)\n",
    "prec_soft = precision_score(y_test, pred)\n",
    "recall_soft = recall_score(y_test, pred)\n",
    "f1_soft = f1_score(y_test, pred)\n",
    "roc_auc_soft = roc_auc_score(y_test, prob)"
   ]
  },
  {
   "cell_type": "code",
   "execution_count": 339,
   "metadata": {},
   "outputs": [
    {
     "data": {
      "text/html": [
       "<div>\n",
       "<style scoped>\n",
       "    .dataframe tbody tr th:only-of-type {\n",
       "        vertical-align: middle;\n",
       "    }\n",
       "\n",
       "    .dataframe tbody tr th {\n",
       "        vertical-align: top;\n",
       "    }\n",
       "\n",
       "    .dataframe thead th {\n",
       "        text-align: right;\n",
       "    }\n",
       "</style>\n",
       "<table border=\"1\" class=\"dataframe\">\n",
       "  <thead>\n",
       "    <tr style=\"text-align: right;\">\n",
       "      <th></th>\n",
       "      <th>Model</th>\n",
       "      <th>Accuracy</th>\n",
       "      <th>Precision</th>\n",
       "      <th>Recall</th>\n",
       "      <th>F1_score</th>\n",
       "      <th>AUC_ROC</th>\n",
       "    </tr>\n",
       "  </thead>\n",
       "  <tbody>\n",
       "    <tr>\n",
       "      <th>0</th>\n",
       "      <td>Ensembling_soft</td>\n",
       "      <td>0.844749</td>\n",
       "      <td>0.84106</td>\n",
       "      <td>0.927007</td>\n",
       "      <td>0.881944</td>\n",
       "      <td>0.899056</td>\n",
       "    </tr>\n",
       "  </tbody>\n",
       "</table>\n",
       "</div>"
      ],
      "text/plain": [
       "             Model  Accuracy  Precision    Recall  F1_score   AUC_ROC\n",
       "0  Ensembling_soft  0.844749    0.84106  0.927007  0.881944  0.899056"
      ]
     },
     "execution_count": 339,
     "metadata": {},
     "output_type": "execute_result"
    }
   ],
   "source": [
    "models_ensembling_features_svc = pd.DataFrame({\n",
    "    'Model'       : ['Ensembling_soft'],\n",
    "    'Accuracy'    : [acc_soft],\n",
    "    'Precision'   : [prec_soft],\n",
    "    'Recall'      : [recall_soft],\n",
    "    'F1_score'    : [f1_soft],\n",
    "    'AUC_ROC'     : [roc_auc_soft],\n",
    "    }, columns = ['Model', 'Accuracy', 'Precision', 'Recall', 'F1_score', 'AUC_ROC'])\n",
    "\n",
    "models_ensembling_features_svc.sort_values(by='AUC_ROC', ascending=False)"
   ]
  },
  {
   "cell_type": "code",
   "execution_count": null,
   "metadata": {},
   "outputs": [],
   "source": []
  },
  {
   "cell_type": "code",
   "execution_count": null,
   "metadata": {},
   "outputs": [],
   "source": []
  },
  {
   "cell_type": "code",
   "execution_count": null,
   "metadata": {},
   "outputs": [],
   "source": []
  },
  {
   "cell_type": "markdown",
   "metadata": {},
   "source": [
    "### General comparison\n"
   ]
  },
  {
   "cell_type": "code",
   "execution_count": 344,
   "metadata": {},
   "outputs": [
    {
     "data": {
      "text/html": [
       "<div>\n",
       "<style scoped>\n",
       "    .dataframe tbody tr th:only-of-type {\n",
       "        vertical-align: middle;\n",
       "    }\n",
       "\n",
       "    .dataframe tbody tr th {\n",
       "        vertical-align: top;\n",
       "    }\n",
       "\n",
       "    .dataframe thead th {\n",
       "        text-align: right;\n",
       "    }\n",
       "</style>\n",
       "<table border=\"1\" class=\"dataframe\">\n",
       "  <thead>\n",
       "    <tr style=\"text-align: right;\">\n",
       "      <th></th>\n",
       "      <th>Base models</th>\n",
       "      <th>AUC_ROC_1</th>\n",
       "      <th>Models PCA</th>\n",
       "      <th>AUC_ROC_2</th>\n",
       "      <th>Features sel. SVC (ensembl)</th>\n",
       "      <th>AUC_ROC_3</th>\n",
       "      <th>Models Ensembl. tsne</th>\n",
       "      <th>AUC_ROC_4</th>\n",
       "    </tr>\n",
       "  </thead>\n",
       "  <tbody>\n",
       "    <tr>\n",
       "      <th>0</th>\n",
       "      <td>Support Vector Machine</td>\n",
       "      <td>0.845206</td>\n",
       "      <td>Support Vector Machine</td>\n",
       "      <td>0.845043</td>\n",
       "      <td>Ensembling_soft</td>\n",
       "      <td>0.899056</td>\n",
       "      <td>Ensembling_soft</td>\n",
       "      <td>0.485669</td>\n",
       "    </tr>\n",
       "    <tr>\n",
       "      <th>2</th>\n",
       "      <td>XGBClassifier</td>\n",
       "      <td>0.843954</td>\n",
       "      <td>XGBClassifier</td>\n",
       "      <td>0.812840</td>\n",
       "      <td>NaN</td>\n",
       "      <td>NaN</td>\n",
       "      <td>NaN</td>\n",
       "      <td>NaN</td>\n",
       "    </tr>\n",
       "    <tr>\n",
       "      <th>3</th>\n",
       "      <td>KNN</td>\n",
       "      <td>0.800282</td>\n",
       "      <td>KNN</td>\n",
       "      <td>0.801308</td>\n",
       "      <td>NaN</td>\n",
       "      <td>NaN</td>\n",
       "      <td>NaN</td>\n",
       "      <td>NaN</td>\n",
       "    </tr>\n",
       "    <tr>\n",
       "      <th>1</th>\n",
       "      <td>Random Forest</td>\n",
       "      <td>0.790657</td>\n",
       "      <td>Random Forest</td>\n",
       "      <td>0.783618</td>\n",
       "      <td>NaN</td>\n",
       "      <td>NaN</td>\n",
       "      <td>NaN</td>\n",
       "      <td>NaN</td>\n",
       "    </tr>\n",
       "  </tbody>\n",
       "</table>\n",
       "</div>"
      ],
      "text/plain": [
       "              Base models  AUC_ROC_1              Models PCA  AUC_ROC_2  \\\n",
       "0  Support Vector Machine   0.845206  Support Vector Machine   0.845043   \n",
       "2           XGBClassifier   0.843954           XGBClassifier   0.812840   \n",
       "3                     KNN   0.800282                     KNN   0.801308   \n",
       "1           Random Forest   0.790657           Random Forest   0.783618   \n",
       "\n",
       "  Features sel. SVC (ensembl)  AUC_ROC_3 Models Ensembl. tsne  AUC_ROC_4  \n",
       "0             Ensembling_soft   0.899056      Ensembling_soft   0.485669  \n",
       "2                         NaN        NaN                  NaN        NaN  \n",
       "3                         NaN        NaN                  NaN        NaN  \n",
       "1                         NaN        NaN                  NaN        NaN  "
      ]
     },
     "execution_count": 344,
     "metadata": {},
     "output_type": "execute_result"
    }
   ],
   "source": [
    "model_general = pd.concat([models_initial['Model'], models_initial['AUC_ROC'], \n",
    "                           models_pca['Model'], models_pca['AUC_ROC'],\n",
    "                           models_ensembling_features_svc['Model'], models_ensembling_features_svc['AUC_ROC'],\n",
    "                           models_ensembling_tsne['Model'], models_ensembling_tsne['AUC_ROC']]\n",
    "                          , axis=1)\n",
    "\n",
    "model_general.columns = ['Base models', 'AUC_ROC_1',\n",
    "                         'Models PCA', 'AUC_ROC_2',\n",
    "                        'Features sel. SVC (ensembl)', 'AUC_ROC_3', \n",
    "                         'Models Ensembl. tsne', 'AUC_ROC_4']\n",
    "\n",
    "model_general.sort_values(by='AUC_ROC_1', ascending=False)"
   ]
  },
  {
   "cell_type": "code",
   "execution_count": null,
   "metadata": {},
   "outputs": [],
   "source": []
  }
 ],
 "metadata": {
  "kernelspec": {
   "display_name": "Python 3",
   "language": "python",
   "name": "python3"
  },
  "language_info": {
   "codemirror_mode": {
    "name": "ipython",
    "version": 3
   },
   "file_extension": ".py",
   "mimetype": "text/x-python",
   "name": "python",
   "nbconvert_exporter": "python",
   "pygments_lexer": "ipython3",
   "version": "3.8.3"
  }
 },
 "nbformat": 4,
 "nbformat_minor": 2
}
