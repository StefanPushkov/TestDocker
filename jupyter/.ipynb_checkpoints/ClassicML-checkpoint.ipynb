{
 "cells": [
  {
   "cell_type": "code",
   "execution_count": 49,
   "metadata": {},
   "outputs": [],
   "source": [
    "import pandas as pd\n",
    "import numpy as np\n",
    "from sklearn.ensemble import RandomForestClassifier \n",
    "from sklearn.model_selection import train_test_split\n",
    "from sklearn import metrics"
   ]
  },
  {
   "cell_type": "code",
   "execution_count": 9,
   "metadata": {},
   "outputs": [],
   "source": [
    "data = pd.read_csv('E:/RTC/skill-task2/data/train.csv/train.csv')"
   ]
  },
  {
   "cell_type": "code",
   "execution_count": 10,
   "metadata": {},
   "outputs": [
    {
     "data": {
      "text/html": [
       "<div>\n",
       "<style scoped>\n",
       "    .dataframe tbody tr th:only-of-type {\n",
       "        vertical-align: middle;\n",
       "    }\n",
       "\n",
       "    .dataframe tbody tr th {\n",
       "        vertical-align: top;\n",
       "    }\n",
       "\n",
       "    .dataframe thead th {\n",
       "        text-align: right;\n",
       "    }\n",
       "</style>\n",
       "<table border=\"1\" class=\"dataframe\">\n",
       "  <thead>\n",
       "    <tr style=\"text-align: right;\">\n",
       "      <th></th>\n",
       "      <th>sample_id</th>\n",
       "      <th>f0</th>\n",
       "      <th>f1</th>\n",
       "      <th>f2</th>\n",
       "      <th>f3</th>\n",
       "      <th>f4</th>\n",
       "      <th>f5</th>\n",
       "      <th>f6</th>\n",
       "      <th>f7</th>\n",
       "      <th>f8</th>\n",
       "      <th>...</th>\n",
       "      <th>f1603</th>\n",
       "      <th>f1604</th>\n",
       "      <th>f1605</th>\n",
       "      <th>f1606</th>\n",
       "      <th>f1607</th>\n",
       "      <th>f1608</th>\n",
       "      <th>f1609</th>\n",
       "      <th>f1610</th>\n",
       "      <th>f1611</th>\n",
       "      <th>y</th>\n",
       "    </tr>\n",
       "  </thead>\n",
       "  <tbody>\n",
       "    <tr>\n",
       "      <th>0</th>\n",
       "      <td>sample_0</td>\n",
       "      <td>25.609375</td>\n",
       "      <td>6.703125</td>\n",
       "      <td>3.652344</td>\n",
       "      <td>10.039062</td>\n",
       "      <td>169.375</td>\n",
       "      <td>102.8125</td>\n",
       "      <td>1.422852</td>\n",
       "      <td>6.722656</td>\n",
       "      <td>8.015625</td>\n",
       "      <td>...</td>\n",
       "      <td>8.070312</td>\n",
       "      <td>4.363281</td>\n",
       "      <td>5.019531</td>\n",
       "      <td>5.710938</td>\n",
       "      <td>6.343750</td>\n",
       "      <td>6.843750</td>\n",
       "      <td>7.289062</td>\n",
       "      <td>7.617188</td>\n",
       "      <td>7.980469</td>\n",
       "      <td>1.0</td>\n",
       "    </tr>\n",
       "    <tr>\n",
       "      <th>1</th>\n",
       "      <td>sample_1</td>\n",
       "      <td>18.343750</td>\n",
       "      <td>5.824219</td>\n",
       "      <td>2.966797</td>\n",
       "      <td>4.902344</td>\n",
       "      <td>164.625</td>\n",
       "      <td>71.8125</td>\n",
       "      <td>1.357422</td>\n",
       "      <td>5.894531</td>\n",
       "      <td>2.753906</td>\n",
       "      <td>...</td>\n",
       "      <td>7.359375</td>\n",
       "      <td>4.195312</td>\n",
       "      <td>4.808594</td>\n",
       "      <td>5.425781</td>\n",
       "      <td>5.949219</td>\n",
       "      <td>6.339844</td>\n",
       "      <td>6.730469</td>\n",
       "      <td>7.074219</td>\n",
       "      <td>7.175781</td>\n",
       "      <td>1.0</td>\n",
       "    </tr>\n",
       "    <tr>\n",
       "      <th>2</th>\n",
       "      <td>sample_2</td>\n",
       "      <td>28.562500</td>\n",
       "      <td>6.230469</td>\n",
       "      <td>3.583984</td>\n",
       "      <td>7.882812</td>\n",
       "      <td>159.500</td>\n",
       "      <td>113.1875</td>\n",
       "      <td>1.696289</td>\n",
       "      <td>6.316406</td>\n",
       "      <td>4.605469</td>\n",
       "      <td>...</td>\n",
       "      <td>8.562500</td>\n",
       "      <td>4.523438</td>\n",
       "      <td>5.097656</td>\n",
       "      <td>5.789062</td>\n",
       "      <td>6.457031</td>\n",
       "      <td>6.871094</td>\n",
       "      <td>7.386719</td>\n",
       "      <td>7.878906</td>\n",
       "      <td>8.328125</td>\n",
       "      <td>1.0</td>\n",
       "    </tr>\n",
       "    <tr>\n",
       "      <th>3</th>\n",
       "      <td>sample_3</td>\n",
       "      <td>28.062500</td>\n",
       "      <td>6.132812</td>\n",
       "      <td>2.726562</td>\n",
       "      <td>6.378906</td>\n",
       "      <td>169.750</td>\n",
       "      <td>111.0000</td>\n",
       "      <td>1.535156</td>\n",
       "      <td>6.199219</td>\n",
       "      <td>3.712891</td>\n",
       "      <td>...</td>\n",
       "      <td>4.558594</td>\n",
       "      <td>3.533203</td>\n",
       "      <td>3.900391</td>\n",
       "      <td>4.261719</td>\n",
       "      <td>4.042969</td>\n",
       "      <td>3.869141</td>\n",
       "      <td>3.890625</td>\n",
       "      <td>4.042969</td>\n",
       "      <td>4.273438</td>\n",
       "      <td>1.0</td>\n",
       "    </tr>\n",
       "    <tr>\n",
       "      <th>4</th>\n",
       "      <td>sample_4</td>\n",
       "      <td>20.109375</td>\n",
       "      <td>6.144531</td>\n",
       "      <td>3.203125</td>\n",
       "      <td>6.035156</td>\n",
       "      <td>164.750</td>\n",
       "      <td>78.8750</td>\n",
       "      <td>1.281250</td>\n",
       "      <td>6.187500</td>\n",
       "      <td>4.003906</td>\n",
       "      <td>...</td>\n",
       "      <td>6.613281</td>\n",
       "      <td>4.625000</td>\n",
       "      <td>4.996094</td>\n",
       "      <td>5.328125</td>\n",
       "      <td>5.593750</td>\n",
       "      <td>5.800781</td>\n",
       "      <td>6.027344</td>\n",
       "      <td>6.242188</td>\n",
       "      <td>6.449219</td>\n",
       "      <td>0.0</td>\n",
       "    </tr>\n",
       "  </tbody>\n",
       "</table>\n",
       "<p>5 rows × 1614 columns</p>\n",
       "</div>"
      ],
      "text/plain": [
       "  sample_id         f0        f1        f2         f3       f4        f5  \\\n",
       "0  sample_0  25.609375  6.703125  3.652344  10.039062  169.375  102.8125   \n",
       "1  sample_1  18.343750  5.824219  2.966797   4.902344  164.625   71.8125   \n",
       "2  sample_2  28.562500  6.230469  3.583984   7.882812  159.500  113.1875   \n",
       "3  sample_3  28.062500  6.132812  2.726562   6.378906  169.750  111.0000   \n",
       "4  sample_4  20.109375  6.144531  3.203125   6.035156  164.750   78.8750   \n",
       "\n",
       "         f6        f7        f8  ...     f1603     f1604     f1605     f1606  \\\n",
       "0  1.422852  6.722656  8.015625  ...  8.070312  4.363281  5.019531  5.710938   \n",
       "1  1.357422  5.894531  2.753906  ...  7.359375  4.195312  4.808594  5.425781   \n",
       "2  1.696289  6.316406  4.605469  ...  8.562500  4.523438  5.097656  5.789062   \n",
       "3  1.535156  6.199219  3.712891  ...  4.558594  3.533203  3.900391  4.261719   \n",
       "4  1.281250  6.187500  4.003906  ...  6.613281  4.625000  4.996094  5.328125   \n",
       "\n",
       "      f1607     f1608     f1609     f1610     f1611    y  \n",
       "0  6.343750  6.843750  7.289062  7.617188  7.980469  1.0  \n",
       "1  5.949219  6.339844  6.730469  7.074219  7.175781  1.0  \n",
       "2  6.457031  6.871094  7.386719  7.878906  8.328125  1.0  \n",
       "3  4.042969  3.869141  3.890625  4.042969  4.273438  1.0  \n",
       "4  5.593750  5.800781  6.027344  6.242188  6.449219  0.0  \n",
       "\n",
       "[5 rows x 1614 columns]"
      ]
     },
     "execution_count": 10,
     "metadata": {},
     "output_type": "execute_result"
    }
   ],
   "source": [
    "data.head()"
   ]
  },
  {
   "cell_type": "code",
   "execution_count": 11,
   "metadata": {},
   "outputs": [
    {
     "name": "stdout",
     "output_type": "stream",
     "text": [
      "<class 'pandas.core.frame.DataFrame'>\n",
      "RangeIndex: 1095 entries, 0 to 1094\n",
      "Columns: 1614 entries, sample_id to y\n",
      "dtypes: float64(1613), object(1)\n",
      "memory usage: 13.5+ MB\n"
     ]
    }
   ],
   "source": [
    "data.info()"
   ]
  },
  {
   "cell_type": "code",
   "execution_count": 13,
   "metadata": {},
   "outputs": [
    {
     "data": {
      "text/plain": [
       "sample_id    1095\n",
       "f0            743\n",
       "f1            389\n",
       "f2            540\n",
       "f3            759\n",
       "             ... \n",
       "f1608         555\n",
       "f1609         595\n",
       "f1610         593\n",
       "f1611         607\n",
       "y               2\n",
       "Length: 1614, dtype: int64"
      ]
     },
     "execution_count": 13,
     "metadata": {},
     "output_type": "execute_result"
    }
   ],
   "source": [
    "data.nunique()"
   ]
  },
  {
   "cell_type": "code",
   "execution_count": 20,
   "metadata": {},
   "outputs": [],
   "source": [
    "data.replace([np.inf, -np.inf], np.nan,inplace=True)"
   ]
  },
  {
   "cell_type": "code",
   "execution_count": 23,
   "metadata": {},
   "outputs": [],
   "source": [
    "data = data.fillna(0)"
   ]
  },
  {
   "cell_type": "code",
   "execution_count": 29,
   "metadata": {},
   "outputs": [
    {
     "data": {
      "text/plain": [
       "False"
      ]
     },
     "execution_count": 29,
     "metadata": {},
     "output_type": "execute_result"
    }
   ],
   "source": [
    "data.isna().values.any()"
   ]
  },
  {
   "cell_type": "code",
   "execution_count": 33,
   "metadata": {},
   "outputs": [],
   "source": [
    "X = data.drop(['sample_id', 'y'], axis=1)\n",
    "y = data['y']"
   ]
  },
  {
   "cell_type": "code",
   "execution_count": 34,
   "metadata": {},
   "outputs": [],
   "source": [
    "X_train, x_test, Y_train, y_test = train_test_split(X, y, test_size=0.2, random_state=42)"
   ]
  },
  {
   "cell_type": "code",
   "execution_count": 35,
   "metadata": {},
   "outputs": [
    {
     "data": {
      "text/plain": [
       "RandomForestClassifier(bootstrap=True, ccp_alpha=0.0, class_weight=None,\n",
       "                       criterion='gini', max_depth=5, max_features='auto',\n",
       "                       max_leaf_nodes=None, max_samples=None,\n",
       "                       min_impurity_decrease=0.0, min_impurity_split=None,\n",
       "                       min_samples_leaf=1, min_samples_split=2,\n",
       "                       min_weight_fraction_leaf=0.0, n_estimators=100,\n",
       "                       n_jobs=None, oob_score=False, random_state=42, verbose=0,\n",
       "                       warm_start=False)"
      ]
     },
     "execution_count": 35,
     "metadata": {},
     "output_type": "execute_result"
    }
   ],
   "source": [
    "clf = RandomForestClassifier(max_depth=5, random_state=42)\n",
    "clf.fit(X_train, Y_train)"
   ]
  },
  {
   "cell_type": "code",
   "execution_count": 36,
   "metadata": {},
   "outputs": [],
   "source": [
    "y_preds = clf.predict(x_test)"
   ]
  },
  {
   "cell_type": "code",
   "execution_count": 43,
   "metadata": {},
   "outputs": [
    {
     "data": {
      "text/plain": [
       "219"
      ]
     },
     "execution_count": 43,
     "metadata": {},
     "output_type": "execute_result"
    }
   ],
   "source": [
    "len(y_preds)"
   ]
  },
  {
   "cell_type": "code",
   "execution_count": 45,
   "metadata": {},
   "outputs": [
    {
     "data": {
      "text/plain": [
       "<PandasArray>\n",
       "[1.0, 1.0, 0.0, 1.0, 1.0, 0.0, 0.0, 0.0, 0.0, 1.0,\n",
       " ...\n",
       " 0.0, 1.0, 0.0, 1.0, 1.0, 0.0, 0.0, 1.0, 1.0, 1.0]\n",
       "Length: 219, dtype: float64"
      ]
     },
     "execution_count": 45,
     "metadata": {},
     "output_type": "execute_result"
    }
   ],
   "source": [
    "y_test.array"
   ]
  },
  {
   "cell_type": "code",
   "execution_count": 50,
   "metadata": {},
   "outputs": [
    {
     "name": "stdout",
     "output_type": "stream",
     "text": [
      "F1 score: 0\n"
     ]
    }
   ],
   "source": [
    "f1_score = metrics.f1_score(y_test, y_preds)\n",
    "print(\"F1 score: %d\" % f1_score)"
   ]
  },
  {
   "cell_type": "code",
   "execution_count": 52,
   "metadata": {},
   "outputs": [
    {
     "name": "stdout",
     "output_type": "stream",
     "text": [
      "              precision    recall  f1-score   support\n",
      "\n",
      "         0.0       0.85      0.67      0.75        82\n",
      "         1.0       0.82      0.93      0.87       137\n",
      "\n",
      "    accuracy                           0.83       219\n",
      "   macro avg       0.84      0.80      0.81       219\n",
      "weighted avg       0.83      0.83      0.83       219\n",
      "\n"
     ]
    }
   ],
   "source": [
    " print(metrics.classification_report(y_test, y_preds))"
   ]
  },
  {
   "cell_type": "code",
   "execution_count": 53,
   "metadata": {},
   "outputs": [
    {
     "name": "stdout",
     "output_type": "stream",
     "text": [
      "[[ 55  27]\n",
      " [ 10 127]]\n"
     ]
    }
   ],
   "source": [
    "print(metrics.confusion_matrix(y_test, y_preds))"
   ]
  },
  {
   "cell_type": "code",
   "execution_count": null,
   "metadata": {},
   "outputs": [],
   "source": []
  }
 ],
 "metadata": {
  "kernelspec": {
   "display_name": "stepik_mipt",
   "language": "python",
   "name": "stepik_mipt"
  },
  "language_info": {
   "codemirror_mode": {
    "name": "ipython",
    "version": 3
   },
   "file_extension": ".py",
   "mimetype": "text/x-python",
   "name": "python",
   "nbconvert_exporter": "python",
   "pygments_lexer": "ipython3",
   "version": "3.7.5"
  }
 },
 "nbformat": 4,
 "nbformat_minor": 2
}
